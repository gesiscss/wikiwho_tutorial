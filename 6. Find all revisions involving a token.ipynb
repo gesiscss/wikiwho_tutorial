{
 "cells": [
  {
   "cell_type": "markdown",
   "metadata": {},
   "source": [
    "# Merge all tokens with revisions"
   ]
  },
  {
   "cell_type": "code",
   "execution_count": null,
   "metadata": {},
   "outputs": [],
   "source": [
    "import pandas as pd\n",
    "from wikiwho_wrapper import WikiWho\n",
    "from os.path import exists\n",
    "\n",
    "filename = 'data/freddie_mercury.df'\n",
    "try:\n",
    "    df = pd.read_pickle(filename)\n",
    "except:\n",
    "    ww = WikiWho()\n",
    "    df = ww.dv.all_content(\"Freddie Mercury\")\n",
    "    df = df[~((df['in'] == -1) & (df['out'] == -1))]\n",
    "    df = df.drop(columns=['article_title', 'page_id']) \n",
    "\n",
    "    revisions = ww.dv.rev_ids_of_article('Freddie Mercury')\n",
    "\n",
    "    df = pd.merge(df,\n",
    "                  revisions.rename(\n",
    "                      columns={\n",
    "                          'rev_id': 'in',\n",
    "                          'o_editor': 'in_editor',\n",
    "                          'rev_time': 'in_rev_time'\n",
    "                      })[['in', 'in_editor', 'in_rev_time']],\n",
    "                  how='left', on='in')\n",
    "\n",
    "    df = pd.merge(df,\n",
    "                  revisions.rename(\n",
    "                      columns={\n",
    "                          'rev_id': 'out',\n",
    "                          'o_editor': 'out_editor',\n",
    "                          'rev_time': 'out_rev_time'\n",
    "                      })[['out', 'out_editor', 'out_rev_time']],\n",
    "                  how='left', on='out')\n",
    "\n",
    "\n",
    "    df.to_pickle(filename)\n"
   ]
  },
  {
   "cell_type": "markdown",
   "metadata": {},
   "source": [
    "# Query all revisions that reinserted a token"
   ]
  },
  {
   "cell_type": "code",
   "execution_count": null,
   "metadata": {},
   "outputs": [],
   "source": [
    "ins = df.loc[(df['token'] == 'british') & (df['in'] != -1), ['token_id', 'in', 'in_rev_time', 'in_editor']]\n",
    "ins.head()"
   ]
  },
  {
   "cell_type": "markdown",
   "metadata": {},
   "source": [
    "# Query all revisions that removed a token"
   ]
  },
  {
   "cell_type": "code",
   "execution_count": null,
   "metadata": {},
   "outputs": [],
   "source": [
    "outs = df.loc[(df['token'] == 'british') & (df['out'] != -1), ['token_id', 'out', 'out_rev_time', 'out_editor']]\n",
    "outs.head()"
   ]
  }
 ],
 "metadata": {
  "kernelspec": {
   "display_name": "Python 3",
   "language": "python",
   "name": "python3"
  },
  "language_info": {
   "codemirror_mode": {
    "name": "ipython",
    "version": 3
   },
   "file_extension": ".py",
   "mimetype": "text/x-python",
   "name": "python",
   "nbconvert_exporter": "python",
   "pygments_lexer": "ipython3",
   "version": "3.6.6"
  }
 },
 "nbformat": 4,
 "nbformat_minor": 2
}
